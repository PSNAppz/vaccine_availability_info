{
 "cells": [
  {
   "cell_type": "code",
   "execution_count": 1,
   "id": "1896858b",
   "metadata": {},
   "outputs": [],
   "source": [
    "import requests\n",
    "import json\n",
    "import pandas as pd"
   ]
  },
  {
   "cell_type": "code",
   "execution_count": 2,
   "id": "be06d129",
   "metadata": {},
   "outputs": [],
   "source": [
    "res = requests.get(\"https://cdn-api.co-vin.in/api/v2/admin/location/states\")"
   ]
  },
  {
   "cell_type": "code",
   "execution_count": 3,
   "id": "c3100531",
   "metadata": {},
   "outputs": [],
   "source": [
    "states = pd.DataFrame(json.loads(res.text)[\"states\"])"
   ]
  },
  {
   "cell_type": "code",
   "execution_count": 4,
   "id": "faa0a347",
   "metadata": {},
   "outputs": [],
   "source": [
    "states.to_csv(\"states.csv\", index = False)"
   ]
  },
  {
   "cell_type": "code",
   "execution_count": 5,
   "id": "21d65044",
   "metadata": {},
   "outputs": [],
   "source": [
    "df = pd.read_csv(\"states.csv\")  #sates_code"
   ]
  },
  {
   "cell_type": "code",
   "execution_count": 6,
   "id": "e8d0c6f8",
   "metadata": {},
   "outputs": [
    {
     "data": {
      "text/plain": [
       "Index(['state_id', 'state_name'], dtype='object')"
      ]
     },
     "execution_count": 6,
     "metadata": {},
     "output_type": "execute_result"
    }
   ],
   "source": [
    "df.columns"
   ]
  },
  {
   "cell_type": "code",
   "execution_count": 7,
   "id": "f08448d4",
   "metadata": {
    "scrolled": true
   },
   "outputs": [],
   "source": [
    "df_district_all = None\n",
    "for state_id in df[\"state_id\"].values.tolist():\n",
    "    res = requests.get(\"https://cdn-api.co-vin.in/api/v2/admin/location/districts/{}\".format(state_id))\n",
    "    df_district = pd.DataFrame(json.loads(res.text)[\"districts\"])\n",
    "    if df_district_all is None:\n",
    "        df_district_all = df_district\n",
    "    else:\n",
    "        df_district_all = pd.concat([df_district_all, df_district], ignore_index=True)\n",
    "\n",
    "df_district_all = df_district_all.sort_values(\"district_name\")\n",
    "df_district_all.to_csv(\"districts.csv\", index=False)    #District_id"
   ]
  },
  {
   "cell_type": "markdown",
   "id": "41613657",
   "metadata": {},
   "source": [
    "## Search by district id "
   ]
  },
  {
   "cell_type": "code",
   "execution_count": 8,
   "id": "d73eaca8",
   "metadata": {},
   "outputs": [],
   "source": [
    "#Example\n",
    "\n",
    "district_id = \"240\" #Ranchi \n",
    "date_from = \"01-05-2021\""
   ]
  },
  {
   "cell_type": "code",
   "execution_count": 9,
   "id": "c7c5ef43",
   "metadata": {},
   "outputs": [],
   "source": [
    "URL = \"https://cdn-api.co-vin.in/api/v2/appointment/sessions/public/calendarByDistrict?district_id={}&date={}\" \\\n",
    "      .format(district_id,date_from)\n",
    "res = requests.get(URL)"
   ]
  },
  {
   "cell_type": "code",
   "execution_count": 10,
   "id": "5faa8704",
   "metadata": {},
   "outputs": [],
   "source": [
    "calender_df = pd.DataFrame(json.loads(res.text)[\"centers\"])"
   ]
  },
  {
   "cell_type": "code",
   "execution_count": 11,
   "id": "a6b0c2d5",
   "metadata": {},
   "outputs": [],
   "source": [
    "calender_df = calender_df[['name', 'state_name', 'district_name',\n",
    "       'pincode', 'fee_type','vaccine_fees']]"
   ]
  },
  {
   "cell_type": "code",
   "execution_count": 12,
   "id": "40add6fc",
   "metadata": {},
   "outputs": [
    {
     "data": {
      "text/plain": [
       "Index(['name', 'state_name', 'district_name', 'pincode', 'fee_type',\n",
       "       'vaccine_fees'],\n",
       "      dtype='object')"
      ]
     },
     "execution_count": 12,
     "metadata": {},
     "output_type": "execute_result"
    }
   ],
   "source": [
    "calender_df.columns"
   ]
  },
  {
   "cell_type": "code",
   "execution_count": 13,
   "id": "65db56ec",
   "metadata": {},
   "outputs": [],
   "source": [
    "calender_df.to_csv(\"vaccine_deatils_7days.csv\", index=False)"
   ]
  },
  {
   "cell_type": "code",
   "execution_count": 14,
   "id": "e7b9e636",
   "metadata": {},
   "outputs": [
    {
     "data": {
      "text/html": [
       "<div>\n",
       "<style scoped>\n",
       "    .dataframe tbody tr th:only-of-type {\n",
       "        vertical-align: middle;\n",
       "    }\n",
       "\n",
       "    .dataframe tbody tr th {\n",
       "        vertical-align: top;\n",
       "    }\n",
       "\n",
       "    .dataframe thead th {\n",
       "        text-align: right;\n",
       "    }\n",
       "</style>\n",
       "<table border=\"1\" class=\"dataframe\">\n",
       "  <thead>\n",
       "    <tr style=\"text-align: right;\">\n",
       "      <th></th>\n",
       "      <th>name</th>\n",
       "      <th>state_name</th>\n",
       "      <th>district_name</th>\n",
       "      <th>pincode</th>\n",
       "      <th>fee_type</th>\n",
       "      <th>vaccine_fees</th>\n",
       "    </tr>\n",
       "  </thead>\n",
       "  <tbody>\n",
       "    <tr>\n",
       "      <th>0</th>\n",
       "      <td>Resaldar Baba Doranda</td>\n",
       "      <td>Jharkhand</td>\n",
       "      <td>Ranchi</td>\n",
       "      <td>834001</td>\n",
       "      <td>Free</td>\n",
       "      <td>NaN</td>\n",
       "    </tr>\n",
       "    <tr>\n",
       "      <th>1</th>\n",
       "      <td>LAPUNG COVAXIN</td>\n",
       "      <td>Jharkhand</td>\n",
       "      <td>Ranchi</td>\n",
       "      <td>835234</td>\n",
       "      <td>Free</td>\n",
       "      <td>NaN</td>\n",
       "    </tr>\n",
       "    <tr>\n",
       "      <th>2</th>\n",
       "      <td>SEVA SADAN</td>\n",
       "      <td>Jharkhand</td>\n",
       "      <td>Ranchi</td>\n",
       "      <td>834001</td>\n",
       "      <td>Paid</td>\n",
       "      <td>[{'vaccine': 'COVISHIELD', 'fee': '0'}]</td>\n",
       "    </tr>\n",
       "    <tr>\n",
       "      <th>3</th>\n",
       "      <td>TAMAR PANCHAYAT</td>\n",
       "      <td>Jharkhand</td>\n",
       "      <td>Ranchi</td>\n",
       "      <td>835225</td>\n",
       "      <td>Free</td>\n",
       "      <td>NaN</td>\n",
       "    </tr>\n",
       "    <tr>\n",
       "      <th>4</th>\n",
       "      <td>JAGUAR</td>\n",
       "      <td>Jharkhand</td>\n",
       "      <td>Ranchi</td>\n",
       "      <td>835222</td>\n",
       "      <td>Free</td>\n",
       "      <td>NaN</td>\n",
       "    </tr>\n",
       "    <tr>\n",
       "      <th>5</th>\n",
       "      <td>GURUDWARA PISKA MORE</td>\n",
       "      <td>Jharkhand</td>\n",
       "      <td>Ranchi</td>\n",
       "      <td>834005</td>\n",
       "      <td>Free</td>\n",
       "      <td>NaN</td>\n",
       "    </tr>\n",
       "    <tr>\n",
       "      <th>6</th>\n",
       "      <td>NAMKUM PANCHYAT</td>\n",
       "      <td>Jharkhand</td>\n",
       "      <td>Ranchi</td>\n",
       "      <td>834010</td>\n",
       "      <td>Free</td>\n",
       "      <td>NaN</td>\n",
       "    </tr>\n",
       "    <tr>\n",
       "      <th>7</th>\n",
       "      <td>JAGARNATH HOSPITAL</td>\n",
       "      <td>Jharkhand</td>\n",
       "      <td>Ranchi</td>\n",
       "      <td>834001</td>\n",
       "      <td>Paid</td>\n",
       "      <td>[{'vaccine': 'COVAXIN', 'fee': '250'}]</td>\n",
       "    </tr>\n",
       "    <tr>\n",
       "      <th>8</th>\n",
       "      <td>DSP HQ</td>\n",
       "      <td>Jharkhand</td>\n",
       "      <td>Ranchi</td>\n",
       "      <td>834001</td>\n",
       "      <td>Free</td>\n",
       "      <td>NaN</td>\n",
       "    </tr>\n",
       "    <tr>\n",
       "      <th>9</th>\n",
       "      <td>BOOTI GOVT SCHOOL</td>\n",
       "      <td>Jharkhand</td>\n",
       "      <td>Ranchi</td>\n",
       "      <td>834001</td>\n",
       "      <td>Free</td>\n",
       "      <td>NaN</td>\n",
       "    </tr>\n",
       "  </tbody>\n",
       "</table>\n",
       "</div>"
      ],
      "text/plain": [
       "                    name state_name district_name  pincode fee_type  \\\n",
       "0  Resaldar Baba Doranda  Jharkhand        Ranchi   834001     Free   \n",
       "1         LAPUNG COVAXIN  Jharkhand        Ranchi   835234     Free   \n",
       "2             SEVA SADAN  Jharkhand        Ranchi   834001     Paid   \n",
       "3        TAMAR PANCHAYAT  Jharkhand        Ranchi   835225     Free   \n",
       "4                 JAGUAR  Jharkhand        Ranchi   835222     Free   \n",
       "5   GURUDWARA PISKA MORE  Jharkhand        Ranchi   834005     Free   \n",
       "6        NAMKUM PANCHYAT  Jharkhand        Ranchi   834010     Free   \n",
       "7     JAGARNATH HOSPITAL  Jharkhand        Ranchi   834001     Paid   \n",
       "8                 DSP HQ  Jharkhand        Ranchi   834001     Free   \n",
       "9      BOOTI GOVT SCHOOL  Jharkhand        Ranchi   834001     Free   \n",
       "\n",
       "                              vaccine_fees  \n",
       "0                                      NaN  \n",
       "1                                      NaN  \n",
       "2  [{'vaccine': 'COVISHIELD', 'fee': '0'}]  \n",
       "3                                      NaN  \n",
       "4                                      NaN  \n",
       "5                                      NaN  \n",
       "6                                      NaN  \n",
       "7   [{'vaccine': 'COVAXIN', 'fee': '250'}]  \n",
       "8                                      NaN  \n",
       "9                                      NaN  "
      ]
     },
     "execution_count": 14,
     "metadata": {},
     "output_type": "execute_result"
    }
   ],
   "source": [
    "calender_df.head(10)"
   ]
  },
  {
   "cell_type": "code",
   "execution_count": null,
   "id": "6cde9f11",
   "metadata": {},
   "outputs": [],
   "source": []
  }
 ],
 "metadata": {
  "kernelspec": {
   "display_name": "Python 3",
   "language": "python",
   "name": "python3"
  },
  "language_info": {
   "codemirror_mode": {
    "name": "ipython",
    "version": 3
   },
   "file_extension": ".py",
   "mimetype": "text/x-python",
   "name": "python",
   "nbconvert_exporter": "python",
   "pygments_lexer": "ipython3",
   "version": "3.9.4"
  }
 },
 "nbformat": 4,
 "nbformat_minor": 5
}
